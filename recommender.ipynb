{
 "cells": [
  {
   "cell_type": "markdown",
   "id": "d4617877",
   "metadata": {},
   "source": [
    "# Restaurant recommendator"
   ]
  },
  {
   "cell_type": "code",
   "execution_count": 1,
   "id": "bf6d211e",
   "metadata": {},
   "outputs": [
    {
     "data": {
      "text/html": [
       "<script>code_show=true; function code_toggle() {if (code_show){$('div.input').hide();} else { $('div.input').show();} code_show = !code_show}$( document ).ready(code_toggle);</script><form action=\"javascript:code_toggle()\"><input type=\"submit\" value=\"Click here to toggle on/off the raw code.\"></form>"
      ],
      "text/plain": [
       "<IPython.core.display.HTML object>"
      ]
     },
     "execution_count": 1,
     "metadata": {},
     "output_type": "execute_result"
    }
   ],
   "source": [
    "from IPython.display import HTML\n",
    "HTML('''<script>code_show=true; function code_toggle() {if (code_show){$('div.input').hide();} else { $('div.input').show();} code_show = !code_show}$( document ).ready(code_toggle);</script><form action=\"javascript:code_toggle()\"><input type=\"submit\" value=\"Click here to toggle on/off the raw code.\"></form>''')"
   ]
  },
  {
   "cell_type": "markdown",
   "id": "e64132a8",
   "metadata": {},
   "source": [
    "This is a restaurant recommender MVP made using the database we used in the other file. To make it more product-like, I hid the code, but it can be viewed by clicking the button above."
   ]
  },
  {
   "cell_type": "markdown",
   "id": "57cac3ff",
   "metadata": {},
   "source": [
    "## Requesting location to the client."
   ]
  },
  {
   "cell_type": "code",
   "execution_count": 3,
   "id": "8c1cbde9",
   "metadata": {
    "hide_input": true
   },
   "outputs": [
    {
     "name": "stdout",
     "output_type": "stream",
     "text": [
      "Hello and welcome! Would you be willing to share your location to help us improve your search results? If you say yes, we can use your location to show you nearby options. Please type \"y\" for yes or \"n\" for no. y\n",
      "Thanks! We will use your location as a reference to make the recommendation\n"
     ]
    }
   ],
   "source": [
    "# Request permission to access the location\n",
    "response = input('Hello and welcome! Would you be willing to share your location to help us improve your search results? If you say yes, we can use your location to show you nearby options. Please type \"y\" for yes or \"n\" for no. ')\n",
    "\n",
    "# If user gives access, use default longitude and latitude values\n",
    "if response.lower() == \"y\":\n",
    "    longitude = -82.573932\n",
    "    latitude = 27.978643\n",
    "    print(f\"Thanks! We will use your location as a reference to make the recommendation\")\n",
    "\n",
    "# If the user does not give access, request longitude and latitude values\n",
    "elif response.lower() == \"n\":\n",
    "    longitude = float(input(\"Enter the longitude: \"))\n",
    "    if (longitude < -82.850313 or longitud > -82.104874):\n",
    "        print(\"Sorry we couldn't find that longitude, we'll use the average location for the city of Tampa to make the recommendation.\")\n",
    "        longitude = -82.573932\n",
    "        latitude = 27.978643\n",
    "    else:\n",
    "        longitude = longitude\n",
    "    latitud = float(input(\"Enter the latitude: \"))\n",
    "    if (latitude > 28.497700 or latitud < 27.564457):\n",
    "        print(f\"Sorry we couldn't find that latitude, we will use the average location for the city of Tampa to make the recommendation.\")\n",
    "        longitude = -82.573932\n",
    "        latitude = 27.978643\n",
    "    else:\n",
    "        latitude = latitude\n",
    "    print(f\"We will use the location entered: ({longitud}, {latitud}) to make the recommendation\")\n",
    "\n",
    "#If user does not enter a valid answer, use general database\n",
    "else:\n",
    "    longitude = -82.573932\n",
    "    latitude = 27.978643\n",
    "    print(\"You did not enter a valid answer so we will use the average location of the city to make the recommendation.\")\n"
   ]
  },
  {
   "cell_type": "code",
   "execution_count": null,
   "id": "75a90913",
   "metadata": {
    "hide_input": false
   },
   "outputs": [],
   "source": [
    "## Calculate the distance between the given location and each of the restaurants."
   ]
  },
  {
   "cell_type": "code",
   "execution_count": 4,
   "id": "a2a624da",
   "metadata": {
    "hide_input": true
   },
   "outputs": [],
   "source": [
    "import pandas as pd\n",
    "data=pd.read_csv('udata.csv')\n",
    "tdata=pd.read_csv('text.csv')"
   ]
  },
  {
   "cell_type": "code",
   "execution_count": 5,
   "id": "862c0a27",
   "metadata": {
    "hide_input": true
   },
   "outputs": [],
   "source": [
    "from math import sin, cos, sqrt, atan2, radians\n",
    "\n",
    "# Function to calculate distance between two points in km\n",
    "def distance_bet_points(lat1, lon1, lat2, lon2):\n",
    "    # Radious of earth in km\n",
    "    R = 6371.0\n",
    "    \n",
    "  # Convert coordinates to radians\n",
    "    lat1_rad = radians(lat1)\n",
    "    lon1_rad = radians(lon1)\n",
    "    lat2_rad = radians(lat2)\n",
    "    lon2_rad = radians(lon2)\n",
    "    \n",
    "    # Calculate the difference in longitude and latitude between the two points\n",
    "    dlon = lon2_rad - lon1_rad\n",
    "    dlat = lat2_rad - lat1_rad\n",
    "    \n",
    "   # Apply the Haversine formula to calculate the distance\n",
    "    a = sin(dlat / 2)**2 + cos(lat1_rad) * cos(lat2_rad) * sin(dlon / 2)**2\n",
    "    c = 2 * atan2(sqrt(a), sqrt(1 - a))\n",
    "    distance = R * c\n",
    "    \n",
    "    return distance\n",
    "\n",
    "data['distance'] = data.apply(lambda row: distance_bet_points(row['latitude'], row['longitude'], latitude, longitude), axis=1)\n",
    "#print(data.head(1))"
   ]
  },
  {
   "cell_type": "code",
   "execution_count": 6,
   "id": "293790b8",
   "metadata": {
    "hide_input": true
   },
   "outputs": [],
   "source": [
    "#data.describe()"
   ]
  },
  {
   "cell_type": "markdown",
   "id": "8ebb438e",
   "metadata": {},
   "source": [
    "## Asking the distance between the restaurant and the client."
   ]
  },
  {
   "cell_type": "code",
   "execution_count": 8,
   "id": "6bcfea46",
   "metadata": {},
   "outputs": [
    {
     "name": "stdout",
     "output_type": "stream",
     "text": [
      "How far away would you like the restaurant to be? The closest restaurant is 0.825 kilometers away and the farthest is 58.196 kms: 10\n"
     ]
    }
   ],
   "source": [
    "dist = input(f'How far away would you like the restaurant to be? The closest restaurant is {min(data[\"distance\"]):.3f} kilometers away and the farthest is {max(data[\"distance\"]):.3f} kms: ')\n",
    "dist = float(dist)\n",
    "if dist < min(data[\"distance\"]):\n",
    "   print(f\"Remember that you must enter a value greater than {min(data['distance']):.3f}. Please query valid distances.\")\n",
    "          \n",
    "ndata=data[data['distance']<=dist]\n",
    "#ndata.head(1)\n",
    "\n",
    "#How far away would you like the restaurant to be? The closest restaurant is 0.825 kilometers away and the farthest is 58.196 kilometers away"
   ]
  },
  {
   "cell_type": "markdown",
   "id": "016e2d97",
   "metadata": {},
   "source": [
    "## Select the top 10 restaurants in the selection and display the list to the user."
   ]
  },
  {
   "cell_type": "code",
   "execution_count": 9,
   "id": "dcd60256",
   "metadata": {},
   "outputs": [
    {
     "name": "stdout",
     "output_type": "stream",
     "text": [
      "There are a total of 522 restaurants in the selected radius, of which we can recommend:\n",
      "Healthy N Fresh Cafe, Taqueria Gonzalez, Fat Beet Farm, Red Square Deli, Oishi Sushi Bar, Networking Leads Coffee House, Take a Break Cafe, The Brisket Shoppe, Mangomix, Pop Goes The Waffle\n"
     ]
    }
   ],
   "source": [
    "top_restaurants = ndata.sort_values('avg_rating', ascending=False).head(10)\n",
    "name_top_restaurants = list(top_restaurants['name'])\n",
    "print(f'There are a total of {len(ndata)} restaurants in the selected radius, of which we can recommend:')\n",
    "print(', '.join(name_top_restaurants))"
   ]
  },
  {
   "cell_type": "code",
   "execution_count": 10,
   "id": "6dac2e8c",
   "metadata": {
    "hide_input": true
   },
   "outputs": [],
   "source": [
    "## List the types of food in these restaurants and ask to the client to choose his/her favorite type of food."
   ]
  },
  {
   "cell_type": "code",
   "execution_count": 11,
   "id": "d9c4db3c",
   "metadata": {
    "hide_input": true
   },
   "outputs": [],
   "source": [
    "# Filtering the DataFrame\n",
    "data_fil = data.loc[data['name'].isin(name_top_restaurants)]\n",
    "data_fil=data_fil.drop(['city','postal_code','latitude','longitude','attributes','total_review_count','stars','text','distance'],axis=1)\n",
    "\n",
    "# Printing the result\n",
    "\n",
    "#print(data_fil)"
   ]
  },
  {
   "cell_type": "code",
   "execution_count": 12,
   "id": "ac9481d4",
   "metadata": {},
   "outputs": [],
   "source": [
    "# Getting the categories\n",
    "col_cat = data_fil['categories'].tolist()\n",
    "cat_list = []\n",
    "\n",
    "for col_ in col_cat:\n",
    "    col_cat = col_.split(', ')\n",
    "    cat_list.append(col_cat)\n",
    "\n",
    "#print(cat_list)"
   ]
  },
  {
   "cell_type": "code",
   "execution_count": 13,
   "id": "f7e2a468",
   "metadata": {},
   "outputs": [],
   "source": [
    "# Creating a list with unique values of categories.\n",
    "unique_set = set()\n",
    "\n",
    "for sub_list in cat_list:\n",
    "    for item in sub_list:\n",
    "        unique_set.add(item)\n",
    "\n",
    "unique_list = list(unique_set)\n",
    "#print(unique_list)"
   ]
  },
  {
   "cell_type": "code",
   "execution_count": 14,
   "id": "9c42a636",
   "metadata": {},
   "outputs": [],
   "source": [
    "# Eliminating categories that are not usefull.\n",
    "eli=['Grocery', 'Kombucha', 'Audio/Visual Equipment Rental', 'Butcher', 'Food','Restaurants','Active Life', 'Farmers Market', 'Shopping Centers', 'Gas Stations', 'Limos', 'Beer Tours', 'Grilling Equipment', 'Fashion', 'Water Stores', 'Home Decor', 'Local Services', 'Art Museums', 'Hotels', 'Adult Entertainment', 'Tobacco Shops', 'Bike Rentals', 'Public Markets', 'Party Equipment Rentals', 'Champagne Bars', 'Organic Stores', 'Farms', 'Nail Salons', 'Fitness & Instruction', 'Arts & Entertainment', 'Hardware Stores', 'Skin Care', 'Airports', 'Accessories', 'Day Spas', 'Wedding Planning', 'Convenience Stores', 'Local Flavor', 'Modern European', 'Mattresses', 'Historical Tours', 'Tennis', 'Boat Repair', 'Event Planning & Services', 'Barbers', 'Home Organization', 'Jewelry', 'Oil Change Stations', 'Arcades', 'Golf Equipment', 'Plumbing', 'Health & Medical', 'Meat Shops', 'Countertop Installation', 'Indoor Playcentre', 'Religious Organizations', 'Dive Bars', 'Vitamins & Supplements', 'Dinner Theater', 'Pool Halls', 'Home & Garden', 'Yelp Events', 'Hotels & Travel', 'Performing Arts', 'Electronics', 'Team Building Activities', 'Vape Shops', 'Pressure Washers', 'Doctors', 'Home Services', 'Child Care & Day Care', 'Community Service/Non-Profit', 'Junk Removal & Hauling', 'Bartenders', 'Mini Golf', 'Accountants', 'Swimming Pools', 'Recreation Centers', 'Street Vendors', 'Cannabis Clinics', 'Rafting/Kayaking', 'Painters', \"Men's Clothing\", 'Music & Video', 'Cultural Center', 'Gastropubs', 'Health Markets', 'Food Stands', 'Self Storage', 'Restaurant Supplies', 'CSA', 'Shared Office Spaces', 'Automotive', 'Imported Food', 'Hookah Bars', 'Gift Shops', 'Head Shops', 'Caterers', 'Boating', 'Water Heater Installation/Repair', 'Sports Clubs', 'Beer Gardens', 'Resorts', 'Golf', 'Education', 'Diners', 'Professional Services', 'Fishing', 'Beverage Store', 'Mobile Phones', 'Nutritionists', 'Flea Markets', 'Beauty & Spas', 'Transportation', 'Vegetarian', 'Trampoline Parks', 'Homeowner Association', 'Wine Tasting Classes', 'Speakeasies', 'Bar Crawl', 'Cucina campana', 'Go Karts', 'Lounges', 'Pediatricians', 'Buddhist Temples', 'Food Court', 'International Grocery', 'Boat Charters', 'Bowling', 'Travel Services', 'Cosmetic Surgeons', 'Drugstores', 'Cheese Shops', 'Tree Services', 'Appliances', 'Seafood Markets', 'Pet Stores', 'Marinas', 'Auto Customization', 'Souvenir Shops', 'Cigar Bars', 'Cannabis Dispensaries', 'Venues & Event Spaces', 'Books', 'Yoga', 'Wholesale Stores', 'Plastic Surgeons', 'Do-It-Yourself Food', 'Cooking Classes', 'Propane', 'Amateur Sports Teams', 'Bed & Breakfast', 'Department Stores', 'Interior Design', 'Skating Rinks', 'Adult', 'Photographers', 'Race Tracks', 'Discount Store', 'Coffee Roasteries', 'Casinos', 'Customized Merchandise', 'Pets', 'Auto Loan Providers', 'Arts & Crafts', 'Building Supplies', 'Tasting Classes', 'Dog Parks', 'Furniture Stores', 'Spiritual Shop', 'Sardinian', 'Churches', 'Museums', 'Property Management', 'Nail Technicians', 'Bookstores', 'Banks & Credit Unions', 'Izakaya', 'Financial Services', 'Personal Chefs', 'Comedy Clubs', 'Wine & Spirits', 'Festivals', 'Paddleboarding', 'Contractors', 'Airport Terminals', 'Ticket Sales', 'Skate Shops', 'Specialty Schools', 'Florists', 'Landscaping', 'Movers', 'Food Delivery Services', 'Golf Lessons', 'Parks', 'Outlet Stores', 'Landmarks & Historical Buildings', 'Home Cleaning', 'Car Dealers', 'Investing', 'Food Tours', 'Personal Shopping', \"Men's Hair Salons\", 'Beaches', 'Screen Printing/T-Shirt Printing', 'Sporting Goods', 'Kids Activities', 'Public Services & Government', 'Sports Bars', 'Lawn Services', 'Social Clubs', 'Music Venues', 'Haunted Houses', 'Body Shops', 'Landscape Architects', 'Smokehouse', 'Auto Repair', 'Chicken Shop', 'Security Systems', 'Wholesalers', 'Cinema', 'Flowers & Gifts', 'Real Estate', 'Tours', 'Walking Tours', 'Nightlife', 'Videos & Video Game Rental', 'Medical Spas', 'Ethnic Grocery', 'Art Galleries', 'Shopping', 'Jazz & Blues', 'Wine Tours', 'Gemstones & Minerals', 'Amusement Parks', 'Country Clubs', 'Pop-up Shops', 'Session Photography', 'Hair Salons', 'Party Bus Rentals', 'Party & Event Planning', 'Cooking Schools', 'Laser Tag', 'Flight Instruction', 'Mags']"
   ]
  },
  {
   "cell_type": "code",
   "execution_count": 15,
   "id": "e3851a0f",
   "metadata": {},
   "outputs": [],
   "source": [
    "# Defining lists\n",
    "list_a = unique_list\n",
    "list_b = eli\n",
    "\n",
    "# Filter list A against list B\n",
    "filt_list = [elem for elem in list_a if elem not in list_b]\n",
    "\n",
    "# print the result\n",
    "#print(filt_list)\n",
    "cadena = ', '.join(str(elem) for elem in filt_list)"
   ]
  },
  {
   "cell_type": "markdown",
   "id": "4502701a",
   "metadata": {},
   "source": [
    "# Showing the classification of these restaurants. "
   ]
  },
  {
   "cell_type": "code",
   "execution_count": 16,
   "id": "47ce5e44",
   "metadata": {},
   "outputs": [
    {
     "name": "stdout",
     "output_type": "stream",
     "text": [
      "You have these types of food:\n",
      "Bars, Asian Fusion, Specialty Food, Mexican, Coffee & Tea, Sandwiches, Juice Bars & Smoothies, Cafes, Wine Bars, Bakeries, Breakfast & Brunch, Russian, Desserts, Tacos, Soul Food, Italian, Soup, Salad, Barbeque, Sushi Bars, Food Trucks\n"
     ]
    }
   ],
   "source": [
    "print('You have these types of food:')\n",
    "print(cadena)"
   ]
  },
  {
   "cell_type": "code",
   "execution_count": 17,
   "id": "8308aaed",
   "metadata": {},
   "outputs": [
    {
     "name": "stdout",
     "output_type": "stream",
     "text": [
      "Copy in the box what type of food you want to eat.  Salad\n"
     ]
    }
   ],
   "source": [
    "rec=input(f'Copy in the box what type of food you want to eat.  ')"
   ]
  },
  {
   "cell_type": "markdown",
   "id": "c4169410",
   "metadata": {},
   "source": [
    "## Once the client selects the type of food, I choose the one the best in the ranking with that type of food "
   ]
  },
  {
   "cell_type": "code",
   "execution_count": 18,
   "id": "85ec91e8",
   "metadata": {},
   "outputs": [],
   "source": [
    "pd.set_option('display.max_rows', None)\n",
    "pd.set_option('display.max_colwidth', None)\n",
    "#data_fil"
   ]
  },
  {
   "cell_type": "code",
   "execution_count": 19,
   "id": "42211551",
   "metadata": {},
   "outputs": [],
   "source": [
    "# Filter the DataFrame with respect to the 'categories' column\n",
    "df_filtered = data_fil.loc[data_fil['categories'].apply(lambda x: any(rec in item for item in x))]\n",
    "df_filtered = data_fil[data_fil['categories'].apply(lambda x: rec in x)]\n",
    "#df_filtered\n"
   ]
  },
  {
   "cell_type": "code",
   "execution_count": 20,
   "id": "793fab94",
   "metadata": {},
   "outputs": [
    {
     "name": "stdout",
     "output_type": "stream",
     "text": [
      "In that case we recommend you go to Healthy N Fresh Cafe\n"
     ]
    }
   ],
   "source": [
    "# Print the dataframe\n",
    "print(f'In that case we recommend you go to {df_filtered[\"name\"].iloc[0]}')"
   ]
  }
 ],
 "metadata": {
  "hide_input": false,
  "hide_output": false,
  "kernelspec": {
   "display_name": "Python 3 (ipykernel)",
   "language": "python",
   "name": "python3"
  },
  "language_info": {
   "codemirror_mode": {
    "name": "ipython",
    "version": 3
   },
   "file_extension": ".py",
   "mimetype": "text/x-python",
   "name": "python",
   "nbconvert_exporter": "python",
   "pygments_lexer": "ipython3",
   "version": "3.9.13"
  }
 },
 "nbformat": 4,
 "nbformat_minor": 5
}
